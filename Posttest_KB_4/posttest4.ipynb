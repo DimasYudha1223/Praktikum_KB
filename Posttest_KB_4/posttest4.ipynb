{
 "cells": [
  {
   "cell_type": "markdown",
   "id": "3c238886-0dbd-468e-8d23-6d0eadb0c389",
   "metadata": {},
   "source": [
    "### •Nama: Dimas Abdi Yudha\n",
    "### •Kelas: Informatika A’21 A1\n",
    "### •NIM: 2109106005\n",
    "### •Posttest: 4 Data Processing\n"
   ]
  },
  {
   "cell_type": "code",
   "execution_count": 2,
   "id": "3880e395-ac56-4c5a-b295-cd2a06490dd8",
   "metadata": {},
   "outputs": [],
   "source": [
    "import numpy as np\n",
    "import pandas as pd"
   ]
  },
  {
   "cell_type": "markdown",
   "id": "451d29ed-5517-43ad-9a9c-f3f6d978accf",
   "metadata": {},
   "source": [
    "# Mengecek Data"
   ]
  },
  {
   "cell_type": "code",
   "execution_count": 3,
   "id": "4edb525f-1c0c-4890-8f00-a6e78bd391b5",
   "metadata": {},
   "outputs": [
    {
     "name": "stdout",
     "output_type": "stream",
     "text": [
      "<class 'pandas.core.frame.DataFrame'>\n",
      "RangeIndex: 18944 entries, 0 to 18943\n",
      "Columns: 106 entries, sofifa_id to rb\n",
      "dtypes: float64(18), int64(44), object(44)\n",
      "memory usage: 15.3+ MB\n"
     ]
    }
   ],
   "source": [
    "df1 = pd.read_csv(\"footballData.csv\")\n",
    "\n",
    "df1.info()"
   ]
  },
  {
   "cell_type": "code",
   "execution_count": null,
   "id": "8dcecb00-2d26-4722-9bb0-1a43f3db73a1",
   "metadata": {},
   "outputs": [],
   "source": [
    "df1.shape"
   ]
  },
  {
   "cell_type": "code",
   "execution_count": null,
   "id": "1afba529-55fc-403e-bb7b-9c150fd9bd6a",
   "metadata": {},
   "outputs": [],
   "source": [
    "df1.head"
   ]
  },
  {
   "cell_type": "markdown",
   "id": "b2be71f1-84f3-4632-95dd-a8cc2b2220ca",
   "metadata": {},
   "source": [
    "# Membagi Data training dan testing "
   ]
  },
  {
   "cell_type": "code",
   "execution_count": null,
   "id": "c5f25f84-cf41-44dd-b693-91169fe98861",
   "metadata": {},
   "outputs": [],
   "source": [
    "from sklearn.model_selection import train_test_split\n",
    "\n",
    "# Pembatas dari ukuran dataset\n",
    "X = df1.iloc[:, : -1]\n",
    "y = df1.iloc[:, -1]\n",
    "\n",
    "X_train, X_test, y_train, y_test = train_test_split(X, y, test_size=0.3)\n",
    "\n",
    "print(\"Pembagian Dataset : \")\n",
    "\n",
    "# Ukuran dari x\n",
    "print(\"Ukuran X_train\", X_train.shape)\n",
    "print(\"Ukuran X_test\", X_test.shape)\n",
    "\n",
    "# Ukuran daru y\n",
    "print(\"Ukuran y_train\", y_train.shape)\n",
    "print(\"Ukuran y_test\", y_test.shape)"
   ]
  },
  {
   "cell_type": "markdown",
   "id": "76fe457f-78a2-4acf-8ffc-898d92d0e61c",
   "metadata": {},
   "source": [
    "# Data Transforming"
   ]
  },
  {
   "cell_type": "markdown",
   "id": "2d5e7cff-0665-4dbe-b5e9-1672d2dccdd4",
   "metadata": {},
   "source": [
    "## Melakukan normalisasi data pada salah satu attribute"
   ]
  },
  {
   "cell_type": "code",
   "execution_count": 5,
   "id": "d8ddf924-c1fe-41d9-9f57-0efb0712a460",
   "metadata": {},
   "outputs": [
    {
     "name": "stdout",
     "output_type": "stream",
     "text": [
      "Hasil akhir normalisasi : \n"
     ]
    },
    {
     "data": {
      "text/html": [
       "<div>\n",
       "<style scoped>\n",
       "    .dataframe tbody tr th:only-of-type {\n",
       "        vertical-align: middle;\n",
       "    }\n",
       "\n",
       "    .dataframe tbody tr th {\n",
       "        vertical-align: top;\n",
       "    }\n",
       "\n",
       "    .dataframe thead th {\n",
       "        text-align: right;\n",
       "    }\n",
       "</style>\n",
       "<table border=\"1\" class=\"dataframe\">\n",
       "  <thead>\n",
       "    <tr style=\"text-align: right;\">\n",
       "      <th></th>\n",
       "      <th>value_eur</th>\n",
       "      <th>Normalisasi Harga Euro</th>\n",
       "    </tr>\n",
       "  </thead>\n",
       "  <tbody>\n",
       "    <tr>\n",
       "      <th>0</th>\n",
       "      <td>67500000</td>\n",
       "      <td>0.639810</td>\n",
       "    </tr>\n",
       "    <tr>\n",
       "      <th>1</th>\n",
       "      <td>46000000</td>\n",
       "      <td>0.436019</td>\n",
       "    </tr>\n",
       "    <tr>\n",
       "      <th>2</th>\n",
       "      <td>75000000</td>\n",
       "      <td>0.710900</td>\n",
       "    </tr>\n",
       "    <tr>\n",
       "      <th>3</th>\n",
       "      <td>80000000</td>\n",
       "      <td>0.758294</td>\n",
       "    </tr>\n",
       "    <tr>\n",
       "      <th>4</th>\n",
       "      <td>90000000</td>\n",
       "      <td>0.853081</td>\n",
       "    </tr>\n",
       "  </tbody>\n",
       "</table>\n",
       "</div>"
      ],
      "text/plain": [
       "   value_eur  Normalisasi Harga Euro\n",
       "0   67500000                0.639810\n",
       "1   46000000                0.436019\n",
       "2   75000000                0.710900\n",
       "3   80000000                0.758294\n",
       "4   90000000                0.853081"
      ]
     },
     "execution_count": 5,
     "metadata": {},
     "output_type": "execute_result"
    }
   ],
   "source": [
    "from sklearn.preprocessing import MinMaxScaler\n",
    "\n",
    "normalisasi_data = df1[[\"value_eur\"]]\n",
    "normalisasi_data.columns = [\"value_eur\"]\n",
    "\n",
    "min_maxs = MinMaxScaler()\n",
    "normalisasi = min_maxs.fit_transform(normalisasi_data[[\"value_eur\"]])\n",
    "dfNr = pd.DataFrame(normalisasi)\n",
    "dfNr.columns =[\"Normalisasi Harga Euro\"]\n",
    "\n",
    "normalisasi_data = normalisasi_data.join(dfNr[\"Normalisasi Harga Euro\"]).reset_index()\n",
    "normalisasi_data = normalisasi_data.drop(\"index\", axis=1)\n",
    "\n",
    "print(\"Hasil akhir normalisasi : \")\n",
    "normalisasi_data.head()"
   ]
  },
  {
   "cell_type": "markdown",
   "id": "e11d9eab-24fe-425f-9ef3-95912b70d0fd",
   "metadata": {},
   "source": [
    "### Melakukan standarisasi pada dataset"
   ]
  },
  {
   "cell_type": "code",
   "execution_count": 6,
   "id": "0626c188-401c-42c8-b900-e6dd70e53331",
   "metadata": {},
   "outputs": [
    {
     "name": "stdout",
     "output_type": "stream",
     "text": [
      "Data sebelum di standarisasi : \n"
     ]
    },
    {
     "data": {
      "text/plain": [
       "overall                         7.002093\n",
       "potential                       6.109824\n",
       "wage_eur                    19654.256127\n",
       "international_reputation        0.361831\n",
       "dtype: float64"
      ]
     },
     "execution_count": 6,
     "metadata": {},
     "output_type": "execute_result"
    }
   ],
   "source": [
    "from sklearn.preprocessing import StandardScaler\n",
    "\n",
    "df2 = df1[[\"overall\", \"potential\" , \"wage_eur\", \"international_reputation\"]]\n",
    "\n",
    "standard_scaler = StandardScaler()\n",
    "standarisasi = standard_scaler.fit_transform(df2)\n",
    "df_Standar = pd.DataFrame(standarisasi)\n",
    "df_Standar.columns = [\"overall\", \"potential\" , \"wage_eur\", \"international_reputation\"]\n",
    "\n",
    "print(\"Sebelum di standarisasi : \")\n",
    "np.std(df2)"
   ]
  },
  {
   "cell_type": "code",
   "execution_count": null,
   "id": "fd027200-eecf-445e-b612-6e46296895d5",
   "metadata": {},
   "outputs": [],
   "source": [
    "print(\"Sesudah di standarisasi : \")\n",
    "np.std(df_Standar)"
   ]
  },
  {
   "cell_type": "code",
   "execution_count": null,
   "id": "b11dcbc7-7539-4c58-aec2-738e70832178",
   "metadata": {},
   "outputs": [],
   "source": [
    "df1 = pd.read_csv(\"footballData.csv\")\n",
    "\n",
    "df1.isna().sum()"
   ]
  },
  {
   "cell_type": "markdown",
   "id": "bcdbabcb-f7f3-4491-b6a9-7513c4261734",
   "metadata": {
    "tags": []
   },
   "source": [
    "### Melakukan Data cleaning pada data dengan nilai duplikat"
   ]
  },
  {
   "cell_type": "code",
   "execution_count": 8,
   "id": "0a69609e-c6f2-4bba-a9cd-9434d7a20cd3",
   "metadata": {},
   "outputs": [
    {
     "name": "stdout",
     "output_type": "stream",
     "text": [
      "Data Duplikat : \n"
     ]
    },
    {
     "data": {
      "text/plain": [
       "0"
      ]
     },
     "execution_count": 8,
     "metadata": {},
     "output_type": "execute_result"
    }
   ],
   "source": [
    "df1[df1.duplicated()]\n",
    "\n",
    "print(\"Data Duplikat : \")\n",
    "df1.duplicated().sum()"
   ]
  },
  {
   "cell_type": "markdown",
   "id": "e9ffa90b-118f-4b91-8388-e896ae66f86f",
   "metadata": {},
   "source": [
    "### Membuat data duplikat karena tidak ada pada dataset"
   ]
  },
  {
   "cell_type": "code",
   "execution_count": null,
   "id": "de096a82-7abe-465f-b6ca-7a14bf291c87",
   "metadata": {},
   "outputs": [
    {
     "data": {
      "text/plain": [
       "0        False\n",
       "1        False\n",
       "2        False\n",
       "3        False\n",
       "4        False\n",
       "         ...  \n",
       "37883     True\n",
       "37884     True\n",
       "37885     True\n",
       "37886     True\n",
       "37887     True\n",
       "Length: 37888, dtype: bool"
      ]
     },
     "execution_count": 9,
     "metadata": {},
     "output_type": "execute_result"
    }
   ],
   "source": [
    "df_dup = pd.concat([df1]*2, ignore_index=True)\n",
    "df_dup.duplicated()"
   ]
  },
  {
   "cell_type": "code",
   "execution_count": null,
   "id": "99190d01-53c2-41bb-8b90-a0a558c614bd",
   "metadata": {},
   "outputs": [],
   "source": [
    "print(\"Jumlah Duplikat : \")\n",
    "df_dup.duplicated().sum()"
   ]
  },
  {
   "cell_type": "markdown",
   "id": "87b7134a-24d0-4985-8531-70cb27f6d4ee",
   "metadata": {},
   "source": [
    "### Menghapus data duplikat"
   ]
  },
  {
   "cell_type": "code",
   "execution_count": null,
   "id": "c1e939e8-8587-49ea-a372-ae42432f0fac",
   "metadata": {},
   "outputs": [],
   "source": [
    "df_dup.drop_duplicates(inplace = True)\n",
    "df_dup.duplicated()"
   ]
  },
  {
   "cell_type": "code",
   "execution_count": null,
   "id": "827735b8-5501-4774-83fa-cdce7d46c9e2",
   "metadata": {},
   "outputs": [],
   "source": [
    "print(\"Jumlah duplikat : \")\n",
    "df_dup.duplicated().sum()"
   ]
  },
  {
   "cell_type": "markdown",
   "id": "ae6e2d8e-e798-4233-b63b-fe83e8b07844",
   "metadata": {},
   "source": [
    "### Mengganti tipe data salah satu atribut angka"
   ]
  },
  {
   "cell_type": "code",
   "execution_count": 12,
   "id": "2c524be1-eaeb-49e2-b2aa-cd15f45a8531",
   "metadata": {},
   "outputs": [
    {
     "name": "stdout",
     "output_type": "stream",
     "text": [
      "Tipe data sebelum di ubah :  int64\n",
      "Tipe data sesudah di ubah :  int64\n"
     ]
    }
   ],
   "source": [
    "print(\"Tipe data sebelum di ubah : \", df1[\"overall\"].dtypes)\n",
    "df_ubah = df1[[\"overall\"]].astype(float)\n",
    "print(\"Tipe data sesudah di ubah : \", df1[\"overall\"].dtypes)"
   ]
  },
  {
   "cell_type": "markdown",
   "id": "81f42c55-3015-4cba-a076-fc7287c8fa4a",
   "metadata": {},
   "source": [
    "### Melakukan One Hot Encoding"
   ]
  },
  {
   "cell_type": "code",
   "execution_count": 14,
   "id": "7e304192-9ddd-463c-9cc8-2663c2323997",
   "metadata": {},
   "outputs": [
    {
     "data": {
      "text/html": [
       "<div>\n",
       "<style scoped>\n",
       "    .dataframe tbody tr th:only-of-type {\n",
       "        vertical-align: middle;\n",
       "    }\n",
       "\n",
       "    .dataframe tbody tr th {\n",
       "        vertical-align: top;\n",
       "    }\n",
       "\n",
       "    .dataframe thead th {\n",
       "        text-align: right;\n",
       "    }\n",
       "</style>\n",
       "<table border=\"1\" class=\"dataframe\">\n",
       "  <thead>\n",
       "    <tr style=\"text-align: right;\">\n",
       "      <th></th>\n",
       "      <th>potential</th>\n",
       "      <th>0</th>\n",
       "      <th>1</th>\n",
       "      <th>2</th>\n",
       "      <th>3</th>\n",
       "      <th>4</th>\n",
       "      <th>5</th>\n",
       "      <th>6</th>\n",
       "      <th>7</th>\n",
       "      <th>8</th>\n",
       "      <th>...</th>\n",
       "      <th>38</th>\n",
       "      <th>39</th>\n",
       "      <th>40</th>\n",
       "      <th>41</th>\n",
       "      <th>42</th>\n",
       "      <th>43</th>\n",
       "      <th>44</th>\n",
       "      <th>45</th>\n",
       "      <th>46</th>\n",
       "      <th>47</th>\n",
       "    </tr>\n",
       "  </thead>\n",
       "  <tbody>\n",
       "    <tr>\n",
       "      <th>0</th>\n",
       "      <td>93</td>\n",
       "      <td>0.0</td>\n",
       "      <td>0.0</td>\n",
       "      <td>0.0</td>\n",
       "      <td>0.0</td>\n",
       "      <td>0.0</td>\n",
       "      <td>0.0</td>\n",
       "      <td>0.0</td>\n",
       "      <td>0.0</td>\n",
       "      <td>0.0</td>\n",
       "      <td>...</td>\n",
       "      <td>0.0</td>\n",
       "      <td>0.0</td>\n",
       "      <td>0.0</td>\n",
       "      <td>0.0</td>\n",
       "      <td>0.0</td>\n",
       "      <td>0.0</td>\n",
       "      <td>0.0</td>\n",
       "      <td>0.0</td>\n",
       "      <td>1.0</td>\n",
       "      <td>0.0</td>\n",
       "    </tr>\n",
       "    <tr>\n",
       "      <th>1</th>\n",
       "      <td>92</td>\n",
       "      <td>0.0</td>\n",
       "      <td>0.0</td>\n",
       "      <td>0.0</td>\n",
       "      <td>0.0</td>\n",
       "      <td>0.0</td>\n",
       "      <td>0.0</td>\n",
       "      <td>0.0</td>\n",
       "      <td>0.0</td>\n",
       "      <td>0.0</td>\n",
       "      <td>...</td>\n",
       "      <td>0.0</td>\n",
       "      <td>0.0</td>\n",
       "      <td>0.0</td>\n",
       "      <td>0.0</td>\n",
       "      <td>0.0</td>\n",
       "      <td>0.0</td>\n",
       "      <td>0.0</td>\n",
       "      <td>1.0</td>\n",
       "      <td>0.0</td>\n",
       "      <td>0.0</td>\n",
       "    </tr>\n",
       "    <tr>\n",
       "      <th>2</th>\n",
       "      <td>93</td>\n",
       "      <td>0.0</td>\n",
       "      <td>0.0</td>\n",
       "      <td>0.0</td>\n",
       "      <td>0.0</td>\n",
       "      <td>0.0</td>\n",
       "      <td>0.0</td>\n",
       "      <td>0.0</td>\n",
       "      <td>0.0</td>\n",
       "      <td>0.0</td>\n",
       "      <td>...</td>\n",
       "      <td>0.0</td>\n",
       "      <td>0.0</td>\n",
       "      <td>0.0</td>\n",
       "      <td>0.0</td>\n",
       "      <td>0.0</td>\n",
       "      <td>0.0</td>\n",
       "      <td>0.0</td>\n",
       "      <td>0.0</td>\n",
       "      <td>1.0</td>\n",
       "      <td>0.0</td>\n",
       "    </tr>\n",
       "    <tr>\n",
       "      <th>3</th>\n",
       "      <td>91</td>\n",
       "      <td>0.0</td>\n",
       "      <td>0.0</td>\n",
       "      <td>0.0</td>\n",
       "      <td>0.0</td>\n",
       "      <td>0.0</td>\n",
       "      <td>0.0</td>\n",
       "      <td>0.0</td>\n",
       "      <td>0.0</td>\n",
       "      <td>0.0</td>\n",
       "      <td>...</td>\n",
       "      <td>0.0</td>\n",
       "      <td>0.0</td>\n",
       "      <td>0.0</td>\n",
       "      <td>0.0</td>\n",
       "      <td>0.0</td>\n",
       "      <td>0.0</td>\n",
       "      <td>1.0</td>\n",
       "      <td>0.0</td>\n",
       "      <td>0.0</td>\n",
       "      <td>0.0</td>\n",
       "    </tr>\n",
       "    <tr>\n",
       "      <th>4</th>\n",
       "      <td>91</td>\n",
       "      <td>0.0</td>\n",
       "      <td>0.0</td>\n",
       "      <td>0.0</td>\n",
       "      <td>0.0</td>\n",
       "      <td>0.0</td>\n",
       "      <td>0.0</td>\n",
       "      <td>0.0</td>\n",
       "      <td>0.0</td>\n",
       "      <td>0.0</td>\n",
       "      <td>...</td>\n",
       "      <td>0.0</td>\n",
       "      <td>0.0</td>\n",
       "      <td>0.0</td>\n",
       "      <td>0.0</td>\n",
       "      <td>0.0</td>\n",
       "      <td>0.0</td>\n",
       "      <td>1.0</td>\n",
       "      <td>0.0</td>\n",
       "      <td>0.0</td>\n",
       "      <td>0.0</td>\n",
       "    </tr>\n",
       "  </tbody>\n",
       "</table>\n",
       "<p>5 rows × 49 columns</p>\n",
       "</div>"
      ],
      "text/plain": [
       "   potential    0    1    2    3    4    5    6    7    8  ...   38   39   40  \\\n",
       "0         93  0.0  0.0  0.0  0.0  0.0  0.0  0.0  0.0  0.0  ...  0.0  0.0  0.0   \n",
       "1         92  0.0  0.0  0.0  0.0  0.0  0.0  0.0  0.0  0.0  ...  0.0  0.0  0.0   \n",
       "2         93  0.0  0.0  0.0  0.0  0.0  0.0  0.0  0.0  0.0  ...  0.0  0.0  0.0   \n",
       "3         91  0.0  0.0  0.0  0.0  0.0  0.0  0.0  0.0  0.0  ...  0.0  0.0  0.0   \n",
       "4         91  0.0  0.0  0.0  0.0  0.0  0.0  0.0  0.0  0.0  ...  0.0  0.0  0.0   \n",
       "\n",
       "    41   42   43   44   45   46   47  \n",
       "0  0.0  0.0  0.0  0.0  0.0  1.0  0.0  \n",
       "1  0.0  0.0  0.0  0.0  1.0  0.0  0.0  \n",
       "2  0.0  0.0  0.0  0.0  0.0  1.0  0.0  \n",
       "3  0.0  0.0  0.0  1.0  0.0  0.0  0.0  \n",
       "4  0.0  0.0  0.0  1.0  0.0  0.0  0.0  \n",
       "\n",
       "[5 rows x 49 columns]"
      ]
     },
     "execution_count": 14,
     "metadata": {},
     "output_type": "execute_result"
    }
   ],
   "source": [
    "from sklearn.preprocessing import OneHotEncoder\n",
    "one_hot_encode = OneHotEncoder(sparse=False)\n",
    "\n",
    "onehot = one_hot_encode.fit_transform(df1[[\"potential\"]])\n",
    "df_onehot_encoding = pd.DataFrame(onehot)\n",
    "df3 = df1[['potential']].join(df_onehot_encoding)\n",
    "\n",
    "df3.head()"
   ]
  },
  {
   "cell_type": "code",
   "execution_count": null,
   "id": "5ae9d303-95e4-4e5c-ba7e-61b5e53c979b",
   "metadata": {},
   "outputs": [],
   "source": []
  }
 ],
 "metadata": {
  "kernelspec": {
   "display_name": "Dimas_005",
   "language": "python",
   "name": "dimas_005"
  },
  "language_info": {
   "codemirror_mode": {
    "name": "ipython",
    "version": 3
   },
   "file_extension": ".py",
   "mimetype": "text/x-python",
   "name": "python",
   "nbconvert_exporter": "python",
   "pygments_lexer": "ipython3",
   "version": "3.10.7"
  }
 },
 "nbformat": 4,
 "nbformat_minor": 5
}

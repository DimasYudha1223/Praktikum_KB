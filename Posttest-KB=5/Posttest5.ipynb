{
 "cells": [
  {
   "cell_type": "markdown",
   "id": "654c68a5-da98-481e-bfe5-becd51ac9fcc",
   "metadata": {},
   "source": [
    "# Dimas Abdi Yudha\n",
    "# 2109106005\n",
    "# Informatika A'21 A1"
   ]
  },
  {
   "cell_type": "code",
   "execution_count": 72,
   "id": "f3d3c4fa-189b-4863-9e91-223e1c15a205",
   "metadata": {},
   "outputs": [],
   "source": [
    "import pandas as pd\n",
    "import numpy as np"
   ]
  },
  {
   "cell_type": "code",
   "execution_count": 73,
   "id": "7e4571a8-91ac-4ffb-9431-235f238affee",
   "metadata": {},
   "outputs": [
    {
     "name": "stdout",
     "output_type": "stream",
     "text": [
      "<class 'pandas.core.frame.DataFrame'>\n",
      "RangeIndex: 5110 entries, 0 to 5109\n",
      "Data columns (total 12 columns):\n",
      " #   Column             Non-Null Count  Dtype  \n",
      "---  ------             --------------  -----  \n",
      " 0   id                 5110 non-null   int64  \n",
      " 1   gender             5110 non-null   object \n",
      " 2   age                5110 non-null   float64\n",
      " 3   hypertension       5110 non-null   int64  \n",
      " 4   heart_disease      5110 non-null   int64  \n",
      " 5   ever_married       5110 non-null   object \n",
      " 6   work_type          5110 non-null   object \n",
      " 7   Residence_type     5110 non-null   object \n",
      " 8   avg_glucose_level  5110 non-null   float64\n",
      " 9   bmi                4909 non-null   float64\n",
      " 10  smoking_status     5110 non-null   object \n",
      " 11  stroke             5110 non-null   int64  \n",
      "dtypes: float64(3), int64(4), object(5)\n",
      "memory usage: 479.2+ KB\n"
     ]
    }
   ],
   "source": [
    "df = pd.read_csv(\"healthcare-dataset-stroke-data.csv\")\n",
    "df.info()"
   ]
  },
  {
   "cell_type": "markdown",
   "id": "fc763061-5995-4e5c-a3aa-bbd1c2656bc7",
   "metadata": {},
   "source": [
    "# Standarisasi Dataset"
   ]
  },
  {
   "cell_type": "code",
   "execution_count": 74,
   "id": "e7927273-679c-4675-b6aa-23d7ac7aa812",
   "metadata": {},
   "outputs": [],
   "source": [
    "from sklearn.preprocessing import StandardScaler,OrdinalEncoder\n",
    "\n",
    "std = StandardScaler()\n",
    "df[[\"age\", \"avg_glucose_level\", \"bmi\"]] = std.fit_transform(df[[\"age\", \"avg_glucose_level\", \"bmi\"]])\n",
    "\n",
    "enc = OrdinalEncoder()\n",
    "df[[\"gender\", \"work_type\", \"smoking_status\"]] = enc.fit_transform(df[[\"gender\", \"work_type\", \"smoking_status\"]])"
   ]
  },
  {
   "cell_type": "markdown",
   "id": "8285ba90-cbc1-4392-be76-254d21bf44b2",
   "metadata": {},
   "source": [
    "# Proses Data Splitting"
   ]
  },
  {
   "cell_type": "code",
   "execution_count": 75,
   "id": "7a607a59-7296-4420-b313-3ad1b748a3f1",
   "metadata": {},
   "outputs": [],
   "source": [
    "from sklearn.model_selection import train_test_split\n",
    "\n",
    "x = df[[\"gender\", \"work_type\", \"smoking_status\"]]\n",
    "y = df[\"stroke\"]\n",
    "\n",
    "x_train, x_test, y_train, y_test = train_test_split(x, y, test_size=0.2, random_state=0)"
   ]
  },
  {
   "cell_type": "markdown",
   "id": "81f29691-2c43-4f65-acde-83f9c73c13ca",
   "metadata": {},
   "source": [
    "# Klasifikasi dengan K-Nearest Neighbour"
   ]
  },
  {
   "cell_type": "code",
   "execution_count": 76,
   "id": "d23b084c-2ee2-46fb-ace7-82d0427d9d57",
   "metadata": {},
   "outputs": [
    {
     "name": "stdout",
     "output_type": "stream",
     "text": [
      "Akurasi K-NN : 94.71624266144813 %\n"
     ]
    }
   ],
   "source": [
    "from sklearn.neighbors import KNeighborsClassifier\n",
    "from sklearn.metrics import accuracy_score\n",
    "\n",
    "knn = KNeighborsClassifier(n_neighbors=5).fit(x_train, y_train)\n",
    "predict_knn = knn.predict(x_test)\n",
    "print(\"Akurasi K-NN :\", accuracy_score(y_test, predict_knn)*100, \"%\")"
   ]
  },
  {
   "cell_type": "markdown",
   "id": "57888009-b073-4adf-ab7a-750e774a9f7d",
   "metadata": {},
   "source": [
    "# Dengan Naive Bayes"
   ]
  },
  {
   "cell_type": "code",
   "execution_count": 77,
   "id": "a93c62ff-99e4-44c9-8db8-275375bc1082",
   "metadata": {},
   "outputs": [
    {
     "name": "stdout",
     "output_type": "stream",
     "text": [
      "Akurasi NB :  94.71624266144813 %\n"
     ]
    }
   ],
   "source": [
    "from sklearn.naive_bayes import GaussianNB\n",
    "\n",
    "nb = GaussianNB().fit(x_train, y_train)\n",
    "predict_nb = nb.predict(x_test)\n",
    "print(\"Akurasi NB : \", accuracy_score(y_test, predict_nb)*100,\"%\")"
   ]
  },
  {
   "cell_type": "markdown",
   "id": "03b3df47-96d8-4499-a03a-1e33b85ab4cb",
   "metadata": {},
   "source": [
    "# Dengan Decision Tree"
   ]
  },
  {
   "cell_type": "code",
   "execution_count": 78,
   "id": "1678468d-dcf1-4c5e-a11c-ba8a22d36e60",
   "metadata": {},
   "outputs": [
    {
     "name": "stdout",
     "output_type": "stream",
     "text": [
      "Akurasi DT :  94.71624266144813 %\n"
     ]
    }
   ],
   "source": [
    "from sklearn.tree import DecisionTreeClassifier\n",
    "\n",
    "dt = DecisionTreeClassifier().fit(x_train, y_train)\n",
    "predict_tree = dt.predict(x_test)\n",
    "print(\"Akurasi DT : \", accuracy_score(y_test, predict_tree)*100,\"%\")"
   ]
  },
  {
   "cell_type": "markdown",
   "id": "7c8c66a8-abe2-4cd2-9d71-f6ad373ca42e",
   "metadata": {},
   "source": [
    "# Linear Regression"
   ]
  },
  {
   "cell_type": "code",
   "execution_count": 80,
   "id": "a125f07d-bbfa-4a70-8973-079930d18065",
   "metadata": {},
   "outputs": [
    {
     "data": {
      "text/html": [
       "<div>\n",
       "<style scoped>\n",
       "    .dataframe tbody tr th:only-of-type {\n",
       "        vertical-align: middle;\n",
       "    }\n",
       "\n",
       "    .dataframe tbody tr th {\n",
       "        vertical-align: top;\n",
       "    }\n",
       "\n",
       "    .dataframe thead th {\n",
       "        text-align: right;\n",
       "    }\n",
       "</style>\n",
       "<table border=\"1\" class=\"dataframe\">\n",
       "  <thead>\n",
       "    <tr style=\"text-align: right;\">\n",
       "      <th></th>\n",
       "      <th>id</th>\n",
       "      <th>gender</th>\n",
       "      <th>age</th>\n",
       "      <th>hypertension</th>\n",
       "      <th>heart_disease</th>\n",
       "      <th>ever_married</th>\n",
       "      <th>work_type</th>\n",
       "      <th>Residence_type</th>\n",
       "      <th>avg_glucose_level</th>\n",
       "      <th>bmi</th>\n",
       "      <th>smoking_status</th>\n",
       "      <th>stroke</th>\n",
       "    </tr>\n",
       "  </thead>\n",
       "  <tbody>\n",
       "    <tr>\n",
       "      <th>0</th>\n",
       "      <td>9046</td>\n",
       "      <td>1.0</td>\n",
       "      <td>1.051434</td>\n",
       "      <td>0</td>\n",
       "      <td>1</td>\n",
       "      <td>Yes</td>\n",
       "      <td>2.0</td>\n",
       "      <td>Urban</td>\n",
       "      <td>2.706375</td>\n",
       "      <td>0.981345</td>\n",
       "      <td>1.0</td>\n",
       "      <td>1</td>\n",
       "    </tr>\n",
       "    <tr>\n",
       "      <th>1</th>\n",
       "      <td>51676</td>\n",
       "      <td>0.0</td>\n",
       "      <td>0.786070</td>\n",
       "      <td>0</td>\n",
       "      <td>0</td>\n",
       "      <td>Yes</td>\n",
       "      <td>3.0</td>\n",
       "      <td>Rural</td>\n",
       "      <td>2.121559</td>\n",
       "      <td>NaN</td>\n",
       "      <td>2.0</td>\n",
       "      <td>1</td>\n",
       "    </tr>\n",
       "    <tr>\n",
       "      <th>2</th>\n",
       "      <td>31112</td>\n",
       "      <td>1.0</td>\n",
       "      <td>1.626390</td>\n",
       "      <td>0</td>\n",
       "      <td>1</td>\n",
       "      <td>Yes</td>\n",
       "      <td>2.0</td>\n",
       "      <td>Rural</td>\n",
       "      <td>-0.005028</td>\n",
       "      <td>0.459269</td>\n",
       "      <td>2.0</td>\n",
       "      <td>1</td>\n",
       "    </tr>\n",
       "    <tr>\n",
       "      <th>3</th>\n",
       "      <td>60182</td>\n",
       "      <td>0.0</td>\n",
       "      <td>0.255342</td>\n",
       "      <td>0</td>\n",
       "      <td>0</td>\n",
       "      <td>Yes</td>\n",
       "      <td>2.0</td>\n",
       "      <td>Urban</td>\n",
       "      <td>1.437358</td>\n",
       "      <td>0.701207</td>\n",
       "      <td>3.0</td>\n",
       "      <td>1</td>\n",
       "    </tr>\n",
       "    <tr>\n",
       "      <th>4</th>\n",
       "      <td>1665</td>\n",
       "      <td>0.0</td>\n",
       "      <td>1.582163</td>\n",
       "      <td>1</td>\n",
       "      <td>0</td>\n",
       "      <td>Yes</td>\n",
       "      <td>3.0</td>\n",
       "      <td>Rural</td>\n",
       "      <td>1.501184</td>\n",
       "      <td>-0.623083</td>\n",
       "      <td>2.0</td>\n",
       "      <td>1</td>\n",
       "    </tr>\n",
       "  </tbody>\n",
       "</table>\n",
       "</div>"
      ],
      "text/plain": [
       "      id  gender       age  hypertension  heart_disease ever_married  \\\n",
       "0   9046     1.0  1.051434             0              1          Yes   \n",
       "1  51676     0.0  0.786070             0              0          Yes   \n",
       "2  31112     1.0  1.626390             0              1          Yes   \n",
       "3  60182     0.0  0.255342             0              0          Yes   \n",
       "4   1665     0.0  1.582163             1              0          Yes   \n",
       "\n",
       "   work_type Residence_type  avg_glucose_level       bmi  smoking_status  \\\n",
       "0        2.0          Urban           2.706375  0.981345             1.0   \n",
       "1        3.0          Rural           2.121559       NaN             2.0   \n",
       "2        2.0          Rural          -0.005028  0.459269             2.0   \n",
       "3        2.0          Urban           1.437358  0.701207             3.0   \n",
       "4        3.0          Rural           1.501184 -0.623083             2.0   \n",
       "\n",
       "   stroke  \n",
       "0       1  \n",
       "1       1  \n",
       "2       1  \n",
       "3       1  \n",
       "4       1  "
      ]
     },
     "execution_count": 80,
     "metadata": {},
     "output_type": "execute_result"
    }
   ],
   "source": [
    "df.head(5)"
   ]
  },
  {
   "cell_type": "code",
   "execution_count": 86,
   "id": "90084270-5b91-4a34-ad25-5be49fc2070c",
   "metadata": {},
   "outputs": [],
   "source": [
    "from sklearn.linear_model import LinearRegression\n",
    "\n",
    "x = df[['age']] #Prediction\n",
    "y = df['stroke']   #Target\n",
    "\n",
    "x_train, x_test, y_train, y_test = train_test_split(x, y, random_state=0)"
   ]
  },
  {
   "cell_type": "code",
   "execution_count": 87,
   "id": "e717b206-d2d7-448f-8902-c9aecbe81d47",
   "metadata": {},
   "outputs": [],
   "source": [
    "modelLinReg = LinearRegression().fit(x_train, y_train)"
   ]
  },
  {
   "cell_type": "code",
   "execution_count": 89,
   "id": "656045ed-2dc5-4a17-a60c-6ccd93c43155",
   "metadata": {},
   "outputs": [
    {
     "data": {
      "text/plain": [
       "0.06238558003011596"
      ]
     },
     "execution_count": 89,
     "metadata": {},
     "output_type": "execute_result"
    }
   ],
   "source": [
    "modelLinReg.score(x_train, y_train)"
   ]
  },
  {
   "cell_type": "code",
   "execution_count": 90,
   "id": "0b886877-8cf6-4214-9a69-095c2480f334",
   "metadata": {},
   "outputs": [
    {
     "data": {
      "text/plain": [
       "0.05357178712209287"
      ]
     },
     "execution_count": 90,
     "metadata": {},
     "output_type": "execute_result"
    }
   ],
   "source": [
    "modelLinReg.score(x_test, y_test)"
   ]
  },
  {
   "cell_type": "code",
   "execution_count": 91,
   "id": "9cc957e2-66e9-4409-8848-48ed884290f4",
   "metadata": {},
   "outputs": [],
   "source": [
    "y_pred = modelLinReg.predict(x_test)"
   ]
  },
  {
   "cell_type": "code",
   "execution_count": 98,
   "id": "38b518e0-f673-41eb-8328-9b82abc79525",
   "metadata": {},
   "outputs": [
    {
     "data": {
      "image/png": "[encoded data removed]",
      "text/plain": [
       "<Figure size 640x480 with 1 Axes>"
      ]
     },
     "metadata": {},
     "output_type": "display_data"
    }
   ],
   "source": [
    "import matplotlib.pyplot as plt\n",
    "\n",
    "plt.scatter(x_test, y_test, color=\"maroon\", label=\"Nilai Aktual\")\n",
    "plt.plot(x_test, y_pred, color=\"blue\", label=\"Nilai Prediksi\")\n",
    "plt.xlabel(\"Berdasar Umur\")\n",
    "plt.ylabel(\"Terkena Struk\")\n",
    "plt.legend()\n",
    "plt.show()"
   ]
  },
  {
   "cell_type": "markdown",
   "id": "62fa8651-15aa-485e-a453-d9512a7a1442",
   "metadata": {},
   "source": [
    "# Regression"
   ]
  },
  {
   "cell_type": "code",
   "execution_count": 95,
   "id": "0b417cca-e27a-458b-8073-98e1faee4e6b",
   "metadata": {},
   "outputs": [],
   "source": [
    "from sklearn.metrics import mean_squared_error, r2_score, mean_absolute_error\n",
    "import numpy as np"
   ]
  },
  {
   "cell_type": "code",
   "execution_count": 96,
   "id": "b51ffa62-9542-45f0-acb7-ad77aeeafd2d",
   "metadata": {},
   "outputs": [
    {
     "name": "stdout",
     "output_type": "stream",
     "text": [
      "MSE: 0.045687787576660636\n",
      "RMSE: 0.21374701770237786\n",
      "MAE: 0.0993771748054656\n",
      "R2: 0.05357178712209287\n"
     ]
    }
   ],
   "source": [
    "mse = mean_squared_error(y_test, y_pred)\n",
    "rmse =np.sqrt(mean_squared_error(y_test, y_pred))\n",
    "mae = mean_absolute_error(y_test, y_pred)\n",
    "r2 = r2_score(y_test, y_pred)\n",
    "\n",
    "print(\"MSE:\", mse)\n",
    "print(\"RMSE:\", rmse)\n",
    "print(\"MAE:\", mae)\n",
    "print(\"R2:\", r2)"
   ]
  },
  {
   "cell_type": "code",
   "execution_count": null,
   "id": "24a0b32d-e220-40f1-a772-a562ceea9ed6",
   "metadata": {},
   "outputs": [],
   "source": []
  }
 ],
 "metadata": {
  "kernelspec": {
   "display_name": "Dimas_005",
   "language": "python",
   "name": "dimas_005"
  },
  "language_info": {
   "codemirror_mode": {
    "name": "ipython",
    "version": 3
   },
   "file_extension": ".py",
   "mimetype": "text/x-python",
   "name": "python",
   "nbconvert_exporter": "python",
   "pygments_lexer": "ipython3",
   "version": "3.10.7"
  }
 },
 "nbformat": 4,
 "nbformat_minor": 5
}
